{
 "cells": [
  {
   "cell_type": "code",
   "execution_count": null,
   "id": "e25e47c3-2c0b-4cb0-8e77-8db548a2ee37",
   "metadata": {},
   "outputs": [
    {
     "name": "stdout",
     "output_type": "stream",
     "text": [
      "Collecting matplotlib\n",
      "\u001b[33m  WARNING: Retrying (Retry(total=4, connect=None, read=None, redirect=None, status=None)) after connection broken by 'NewConnectionError('<pip._vendor.urllib3.connection.HTTPSConnection object at 0xffff7f756f10>: Failed to establish a new connection: [Errno -3] Temporary failure in name resolution')': /packages/bc/9e/b09513717f60071fefcb28c7c783aa658f939f3d4ba1cefb6c05138c6657/matplotlib-3.9.0-cp311-cp311-manylinux_2_17_aarch64.manylinux2014_aarch64.whl.metadata\u001b[0m\u001b[33m\n",
      "\u001b[0m\u001b[33m  WARNING: Retrying (Retry(total=3, connect=None, read=None, redirect=None, status=None)) after connection broken by 'SSLError(SSLEOFError(8, '[SSL: UNEXPECTED_EOF_WHILE_READING] EOF occurred in violation of protocol (_ssl.c:1006)'))': /packages/bc/9e/b09513717f60071fefcb28c7c783aa658f939f3d4ba1cefb6c05138c6657/matplotlib-3.9.0-cp311-cp311-manylinux_2_17_aarch64.manylinux2014_aarch64.whl.metadata\u001b[0m\u001b[33m\n",
      "\u001b[0m  Downloading matplotlib-3.9.0-cp311-cp311-manylinux_2_17_aarch64.manylinux2014_aarch64.whl.metadata (11 kB)\n",
      "Collecting contourpy>=1.0.1 (from matplotlib)\n",
      "  Downloading contourpy-1.2.1-cp311-cp311-manylinux_2_17_aarch64.manylinux2014_aarch64.whl.metadata (5.8 kB)\n",
      "Collecting cycler>=0.10 (from matplotlib)\n",
      "  Downloading cycler-0.12.1-py3-none-any.whl.metadata (3.8 kB)\n",
      "INFO: pip is looking at multiple versions of matplotlib to determine which version is compatible with other requirements. This could take a while.\n",
      "Collecting matplotlib\n",
      "  Downloading matplotlib-3.8.4-cp311-cp311-manylinux_2_17_aarch64.manylinux2014_aarch64.whl.metadata (5.8 kB)\n",
      "  Downloading matplotlib-3.8.3-cp311-cp311-manylinux_2_17_aarch64.manylinux2014_aarch64.whl.metadata (5.8 kB)\n",
      "  Downloading matplotlib-3.8.2-cp311-cp311-manylinux_2_17_aarch64.manylinux2014_aarch64.whl.metadata (5.8 kB)\n",
      "  Downloading matplotlib-3.8.1-cp311-cp311-manylinux_2_17_aarch64.manylinux2014_aarch64.whl.metadata (5.8 kB)\n",
      "  Downloading matplotlib-3.8.0-cp311-cp311-manylinux_2_17_aarch64.manylinux2014_aarch64.whl.metadata (5.8 kB)\n",
      "  Downloading matplotlib-3.7.5-cp311-cp311-manylinux_2_17_aarch64.manylinux2014_aarch64.whl.metadata (5.7 kB)\n",
      "  Downloading matplotlib-3.7.4-cp311-cp311-manylinux_2_17_aarch64.manylinux2014_aarch64.whl.metadata (5.7 kB)\n",
      "INFO: pip is still looking at multiple versions of matplotlib to determine which version is compatible with other requirements. This could take a while.\n",
      "  Downloading matplotlib-3.7.3-cp311-cp311-manylinux_2_17_aarch64.manylinux2014_aarch64.whl.metadata (5.7 kB)\n"
     ]
    }
   ],
   "source": [
    "!pip install matplotlib\n",
    "import pandas as pd\n",
    "import matplotlib.pyplot as plt\n",
    "\n",
    "df = pd.read_csv(\"project-8400-GitHub-20240509T181710.csv\")\n",
    "\n",
    "df['created_at'] = pd.to_datetime(df['created_at'])\n",
    "df['closed_at'] = pd.to_datetime(df['closed_at'])\n",
    "\n",
    "date_range = pd.date_range(\n",
    "    start=df['created_at'].min(), end=df['closed_at'].max())\n",
    "\n",
    "open_prs = pd.DataFrame(date_range, columns=['date'])\n",
    "open_prs['open_count'] = 0\n",
    "\n",
    "for _, row in df.iterrows():\n",
    "    open_prs.loc[(open_prs['date'] >= row['created_at']) & ((\n",
    "        open_prs['date'] <= row['closed_at']) | (row['state'] == 'open')), 'open_count'] += 1\n",
    "\n",
    "print(open_prs)\n",
    "\n",
    "plt.figure(figsize=(12, 6))\n",
    "plt.plot(open_prs['date'], open_prs['open_count'], marker='o')\n",
    "plt.xlabel('Date')\n",
    "plt.ylabel('Number of Open PRs')\n",
    "plt.show()"
   ]
  }
 ],
 "metadata": {
  "kernelspec": {
   "display_name": "Python 3 (ipykernel)",
   "language": "python",
   "name": "python3"
  },
  "language_info": {
   "codemirror_mode": {
    "name": "ipython",
    "version": 3
   },
   "file_extension": ".py",
   "mimetype": "text/x-python",
   "name": "python",
   "nbconvert_exporter": "python",
   "pygments_lexer": "ipython3",
   "version": "3.11.9"
  }
 },
 "nbformat": 4,
 "nbformat_minor": 5
}
